{
 "cells": [
  {
   "attachments": {},
   "cell_type": "markdown",
   "metadata": {},
   "source": [
    "Universidade Estadual de Campinas – UNICAMP \n",
    "\n",
    "Disciplina: Ciência e Visualização de Dados em Saúde\n",
    "\n",
    "                    Análise de dados da hanseníase: uma abordagem preditiva para a saúde pública"
   ]
  },
  {
   "attachments": {},
   "cell_type": "markdown",
   "metadata": {},
   "source": [
    "# Imports e configs de módulos"
   ]
  },
  {
   "cell_type": "code",
   "execution_count": 1,
   "metadata": {},
   "outputs": [
    {
     "name": "stderr",
     "output_type": "stream",
     "text": [
      "C:\\Users\\mclar\\AppData\\Local\\Temp\\ipykernel_8108\\2397831427.py:5: DeprecationWarning: `import pandas_profiling` is going to be deprecated by April 1st. Please use `import ydata_profiling` instead.\n",
      "  from pandas_profiling import ProfileReport\n"
     ]
    }
   ],
   "source": [
    "import numpy as np\n",
    "import pandas as pd\n",
    "import matplotlib.pyplot as plt\n",
    "import seaborn as sns\n",
    "from pandas_profiling import ProfileReport"
   ]
  },
  {
   "cell_type": "code",
   "execution_count": 2,
   "metadata": {},
   "outputs": [],
   "source": [
    "pd.set_option('display.max_columns', None)\n",
    "pd.set_option('display.max_rows', 70)\n",
    "%matplotlib inline\n",
    "sns.set_style('darkgrid')\n",
    "sns.set(font_scale=1.005)"
   ]
  },
  {
   "attachments": {},
   "cell_type": "markdown",
   "metadata": {},
   "source": [
    "# Datasets"
   ]
  },
  {
   "cell_type": "code",
   "execution_count": 3,
   "metadata": {},
   "outputs": [
    {
     "name": "stderr",
     "output_type": "stream",
     "text": [
      "C:\\Users\\mclar\\AppData\\Local\\Temp\\ipykernel_8108\\2381453392.py:1: DtypeWarning: Columns (10,15,21,22,23,24,26,27,33,49) have mixed types. Specify dtype option on import or set low_memory=False.\n",
      "  df_hans = pd.read_csv('../data/raw/hans_all_raw.csv')\n"
     ]
    }
   ],
   "source": [
    "df_hans = pd.read_csv('../data/raw/hans_all_raw.csv')"
   ]
  },
  {
   "cell_type": "code",
   "execution_count": 4,
   "metadata": {},
   "outputs": [
    {
     "data": {
      "text/html": [
       "<div>\n",
       "<style scoped>\n",
       "    .dataframe tbody tr th:only-of-type {\n",
       "        vertical-align: middle;\n",
       "    }\n",
       "\n",
       "    .dataframe tbody tr th {\n",
       "        vertical-align: top;\n",
       "    }\n",
       "\n",
       "    .dataframe thead th {\n",
       "        text-align: right;\n",
       "    }\n",
       "</style>\n",
       "<table border=\"1\" class=\"dataframe\">\n",
       "  <thead>\n",
       "    <tr style=\"text-align: right;\">\n",
       "      <th></th>\n",
       "      <th>TP_NOT</th>\n",
       "      <th>ID_AGRAVO</th>\n",
       "      <th>DT_NOTIFIC</th>\n",
       "      <th>NU_ANO</th>\n",
       "      <th>SG_UF_NOT</th>\n",
       "      <th>ID_MUNICIP</th>\n",
       "      <th>ID_REGIONA</th>\n",
       "      <th>ID_UNIDADE</th>\n",
       "      <th>DT_DIAG</th>\n",
       "      <th>SEM_DIAG</th>\n",
       "      <th>ANO_NASC</th>\n",
       "      <th>NU_IDADE_N</th>\n",
       "      <th>CS_SEXO</th>\n",
       "      <th>CS_GESTANT</th>\n",
       "      <th>CS_RACA</th>\n",
       "      <th>CS_ESCOL_N</th>\n",
       "      <th>SG_UF</th>\n",
       "      <th>ID_MN_RESI</th>\n",
       "      <th>ID_RG_RESI</th>\n",
       "      <th>ID_PAIS</th>\n",
       "      <th>NDUPLIC_N</th>\n",
       "      <th>DT_DIGITA</th>\n",
       "      <th>DT_TRANSUS</th>\n",
       "      <th>DT_TRANSDM</th>\n",
       "      <th>DT_TRANSSM</th>\n",
       "      <th>DT_TRANSRM</th>\n",
       "      <th>DT_TRANSRS</th>\n",
       "      <th>DT_TRANSSE</th>\n",
       "      <th>NU_LOTE_V</th>\n",
       "      <th>NU_LOTE_H</th>\n",
       "      <th>CS_FLXRET</th>\n",
       "      <th>FLXRECEBI</th>\n",
       "      <th>MIGRADO_W</th>\n",
       "      <th>ID_OCUPA_N</th>\n",
       "      <th>NU_LESOES</th>\n",
       "      <th>FORMACLINI</th>\n",
       "      <th>AVALIA_N</th>\n",
       "      <th>CLASSOPERA</th>\n",
       "      <th>MODOENTR</th>\n",
       "      <th>MODODETECT</th>\n",
       "      <th>BACILOSCOP</th>\n",
       "      <th>DTINICTRAT</th>\n",
       "      <th>ESQ_INI_N</th>\n",
       "      <th>CONTREG</th>\n",
       "      <th>NERVOSAFET</th>\n",
       "      <th>UFATUAL</th>\n",
       "      <th>ID_MUNI_AT</th>\n",
       "      <th>DT_NOTI_AT</th>\n",
       "      <th>ID_UNID_AT</th>\n",
       "      <th>UFRESAT</th>\n",
       "      <th>MUNIRESAT</th>\n",
       "      <th>DTULTCOMP</th>\n",
       "      <th>CLASSATUAL</th>\n",
       "      <th>AVAL_ATU_N</th>\n",
       "      <th>ESQ_ATU_N</th>\n",
       "      <th>DOSE_RECEB</th>\n",
       "      <th>EPIS_RACIO</th>\n",
       "      <th>DTMUDESQ</th>\n",
       "      <th>CONTEXAM</th>\n",
       "      <th>DTALTA_N</th>\n",
       "      <th>TPALTA_N</th>\n",
       "      <th>IN_VINCULA</th>\n",
       "      <th>NU_LOTE_IA</th>\n",
       "    </tr>\n",
       "  </thead>\n",
       "  <tbody>\n",
       "    <tr>\n",
       "      <th>0</th>\n",
       "      <td>2</td>\n",
       "      <td>A309</td>\n",
       "      <td>10/01/2001</td>\n",
       "      <td>2001</td>\n",
       "      <td>41.0</td>\n",
       "      <td>410304</td>\n",
       "      <td>1359.0</td>\n",
       "      <td>2741474.0</td>\n",
       "      <td>10/12/2000</td>\n",
       "      <td>NaN</td>\n",
       "      <td>1942</td>\n",
       "      <td>4058</td>\n",
       "      <td>M</td>\n",
       "      <td>6.0</td>\n",
       "      <td>NaN</td>\n",
       "      <td>0.0</td>\n",
       "      <td>41.0</td>\n",
       "      <td>410304.0</td>\n",
       "      <td>1359.0</td>\n",
       "      <td>1.0</td>\n",
       "      <td>0.0</td>\n",
       "      <td>NaN</td>\n",
       "      <td>NaN</td>\n",
       "      <td>NaN</td>\n",
       "      <td>11/03/2008</td>\n",
       "      <td>NaN</td>\n",
       "      <td>NaN</td>\n",
       "      <td>22/05/2009</td>\n",
       "      <td>0.0</td>\n",
       "      <td>NaN</td>\n",
       "      <td>NaN</td>\n",
       "      <td>NaN</td>\n",
       "      <td>1.0</td>\n",
       "      <td>NaN</td>\n",
       "      <td>0.0</td>\n",
       "      <td>1.0</td>\n",
       "      <td>0.0</td>\n",
       "      <td>2.0</td>\n",
       "      <td>1.0</td>\n",
       "      <td>2.0</td>\n",
       "      <td>NaN</td>\n",
       "      <td>10/12/2000</td>\n",
       "      <td>3.0</td>\n",
       "      <td>0.0</td>\n",
       "      <td>NaN</td>\n",
       "      <td>PR</td>\n",
       "      <td>410304.0</td>\n",
       "      <td>10/01/2001</td>\n",
       "      <td>2741474.0</td>\n",
       "      <td>41.0</td>\n",
       "      <td>410304.0</td>\n",
       "      <td>02/10/2002</td>\n",
       "      <td>2.0</td>\n",
       "      <td>0.0</td>\n",
       "      <td>3.0</td>\n",
       "      <td>NaN</td>\n",
       "      <td>NaN</td>\n",
       "      <td>NaN</td>\n",
       "      <td>0.0</td>\n",
       "      <td>02/10/2002</td>\n",
       "      <td>1.0</td>\n",
       "      <td>0.0</td>\n",
       "      <td>0.0</td>\n",
       "    </tr>\n",
       "    <tr>\n",
       "      <th>1</th>\n",
       "      <td>2</td>\n",
       "      <td>A309</td>\n",
       "      <td>17/01/2001</td>\n",
       "      <td>2001</td>\n",
       "      <td>41.0</td>\n",
       "      <td>410940</td>\n",
       "      <td>1359.0</td>\n",
       "      <td>2741369.0</td>\n",
       "      <td>23/12/2000</td>\n",
       "      <td>NaN</td>\n",
       "      <td>1956</td>\n",
       "      <td>4044</td>\n",
       "      <td>M</td>\n",
       "      <td>6.0</td>\n",
       "      <td>1.0</td>\n",
       "      <td>0.0</td>\n",
       "      <td>41.0</td>\n",
       "      <td>410940.0</td>\n",
       "      <td>1359.0</td>\n",
       "      <td>1.0</td>\n",
       "      <td>0.0</td>\n",
       "      <td>NaN</td>\n",
       "      <td>NaN</td>\n",
       "      <td>NaN</td>\n",
       "      <td>28/12/2007</td>\n",
       "      <td>NaN</td>\n",
       "      <td>NaN</td>\n",
       "      <td>22/12/2010</td>\n",
       "      <td>0.0</td>\n",
       "      <td>NaN</td>\n",
       "      <td>NaN</td>\n",
       "      <td>NaN</td>\n",
       "      <td>1.0</td>\n",
       "      <td>NaN</td>\n",
       "      <td>0.0</td>\n",
       "      <td>4.0</td>\n",
       "      <td>2.0</td>\n",
       "      <td>2.0</td>\n",
       "      <td>6.0</td>\n",
       "      <td>NaN</td>\n",
       "      <td>NaN</td>\n",
       "      <td>17/01/2001</td>\n",
       "      <td>3.0</td>\n",
       "      <td>3.0</td>\n",
       "      <td>NaN</td>\n",
       "      <td>PR</td>\n",
       "      <td>410940.0</td>\n",
       "      <td>17/01/2001</td>\n",
       "      <td>2741369.0</td>\n",
       "      <td>41.0</td>\n",
       "      <td>410940.0</td>\n",
       "      <td>19/12/2001</td>\n",
       "      <td>2.0</td>\n",
       "      <td>0.0</td>\n",
       "      <td>3.0</td>\n",
       "      <td>NaN</td>\n",
       "      <td>NaN</td>\n",
       "      <td>NaN</td>\n",
       "      <td>2.0</td>\n",
       "      <td>19/12/2001</td>\n",
       "      <td>1.0</td>\n",
       "      <td>0.0</td>\n",
       "      <td>0.0</td>\n",
       "    </tr>\n",
       "    <tr>\n",
       "      <th>2</th>\n",
       "      <td>2</td>\n",
       "      <td>A309</td>\n",
       "      <td>16/01/2001</td>\n",
       "      <td>2001</td>\n",
       "      <td>41.0</td>\n",
       "      <td>410940</td>\n",
       "      <td>1359.0</td>\n",
       "      <td>2741369.0</td>\n",
       "      <td>16/01/2001</td>\n",
       "      <td>NaN</td>\n",
       "      <td>1968</td>\n",
       "      <td>4032</td>\n",
       "      <td>M</td>\n",
       "      <td>6.0</td>\n",
       "      <td>1.0</td>\n",
       "      <td>3.0</td>\n",
       "      <td>41.0</td>\n",
       "      <td>410940.0</td>\n",
       "      <td>1359.0</td>\n",
       "      <td>1.0</td>\n",
       "      <td>0.0</td>\n",
       "      <td>NaN</td>\n",
       "      <td>NaN</td>\n",
       "      <td>NaN</td>\n",
       "      <td>28/12/2007</td>\n",
       "      <td>NaN</td>\n",
       "      <td>NaN</td>\n",
       "      <td>22/12/2010</td>\n",
       "      <td>0.0</td>\n",
       "      <td>NaN</td>\n",
       "      <td>NaN</td>\n",
       "      <td>NaN</td>\n",
       "      <td>1.0</td>\n",
       "      <td>NaN</td>\n",
       "      <td>0.0</td>\n",
       "      <td>2.0</td>\n",
       "      <td>0.0</td>\n",
       "      <td>1.0</td>\n",
       "      <td>1.0</td>\n",
       "      <td>1.0</td>\n",
       "      <td>NaN</td>\n",
       "      <td>16/01/2001</td>\n",
       "      <td>1.0</td>\n",
       "      <td>1.0</td>\n",
       "      <td>NaN</td>\n",
       "      <td>PR</td>\n",
       "      <td>410940.0</td>\n",
       "      <td>16/01/2001</td>\n",
       "      <td>2741369.0</td>\n",
       "      <td>41.0</td>\n",
       "      <td>410940.0</td>\n",
       "      <td>27/06/2001</td>\n",
       "      <td>1.0</td>\n",
       "      <td>0.0</td>\n",
       "      <td>1.0</td>\n",
       "      <td>NaN</td>\n",
       "      <td>NaN</td>\n",
       "      <td>NaN</td>\n",
       "      <td>1.0</td>\n",
       "      <td>27/06/2001</td>\n",
       "      <td>1.0</td>\n",
       "      <td>0.0</td>\n",
       "      <td>0.0</td>\n",
       "    </tr>\n",
       "    <tr>\n",
       "      <th>3</th>\n",
       "      <td>2</td>\n",
       "      <td>A309</td>\n",
       "      <td>08/01/2001</td>\n",
       "      <td>2001</td>\n",
       "      <td>41.0</td>\n",
       "      <td>411780</td>\n",
       "      <td>1359.0</td>\n",
       "      <td>2743116.0</td>\n",
       "      <td>08/01/2001</td>\n",
       "      <td>NaN</td>\n",
       "      <td>1960</td>\n",
       "      <td>4040</td>\n",
       "      <td>F</td>\n",
       "      <td>9.0</td>\n",
       "      <td>NaN</td>\n",
       "      <td>3.0</td>\n",
       "      <td>41.0</td>\n",
       "      <td>411780.0</td>\n",
       "      <td>1359.0</td>\n",
       "      <td>1.0</td>\n",
       "      <td>0.0</td>\n",
       "      <td>NaN</td>\n",
       "      <td>NaN</td>\n",
       "      <td>NaN</td>\n",
       "      <td>10/12/2007</td>\n",
       "      <td>NaN</td>\n",
       "      <td>NaN</td>\n",
       "      <td>22/12/2010</td>\n",
       "      <td>0.0</td>\n",
       "      <td>NaN</td>\n",
       "      <td>NaN</td>\n",
       "      <td>NaN</td>\n",
       "      <td>1.0</td>\n",
       "      <td>NaN</td>\n",
       "      <td>0.0</td>\n",
       "      <td>1.0</td>\n",
       "      <td>1.0</td>\n",
       "      <td>2.0</td>\n",
       "      <td>1.0</td>\n",
       "      <td>2.0</td>\n",
       "      <td>NaN</td>\n",
       "      <td>08/01/2001</td>\n",
       "      <td>3.0</td>\n",
       "      <td>3.0</td>\n",
       "      <td>NaN</td>\n",
       "      <td>PR</td>\n",
       "      <td>411780.0</td>\n",
       "      <td>08/01/2001</td>\n",
       "      <td>2743116.0</td>\n",
       "      <td>41.0</td>\n",
       "      <td>411780.0</td>\n",
       "      <td>28/01/2002</td>\n",
       "      <td>2.0</td>\n",
       "      <td>0.0</td>\n",
       "      <td>3.0</td>\n",
       "      <td>NaN</td>\n",
       "      <td>NaN</td>\n",
       "      <td>NaN</td>\n",
       "      <td>3.0</td>\n",
       "      <td>28/01/2002</td>\n",
       "      <td>1.0</td>\n",
       "      <td>0.0</td>\n",
       "      <td>0.0</td>\n",
       "    </tr>\n",
       "    <tr>\n",
       "      <th>4</th>\n",
       "      <td>2</td>\n",
       "      <td>A309</td>\n",
       "      <td>02/01/2001</td>\n",
       "      <td>2001</td>\n",
       "      <td>41.0</td>\n",
       "      <td>411780</td>\n",
       "      <td>1359.0</td>\n",
       "      <td>2743116.0</td>\n",
       "      <td>11/01/2000</td>\n",
       "      <td>NaN</td>\n",
       "      <td>1968</td>\n",
       "      <td>4031</td>\n",
       "      <td>M</td>\n",
       "      <td>6.0</td>\n",
       "      <td>NaN</td>\n",
       "      <td>0.0</td>\n",
       "      <td>41.0</td>\n",
       "      <td>411780.0</td>\n",
       "      <td>1359.0</td>\n",
       "      <td>1.0</td>\n",
       "      <td>0.0</td>\n",
       "      <td>NaN</td>\n",
       "      <td>NaN</td>\n",
       "      <td>NaN</td>\n",
       "      <td>10/12/2007</td>\n",
       "      <td>NaN</td>\n",
       "      <td>NaN</td>\n",
       "      <td>22/12/2010</td>\n",
       "      <td>0.0</td>\n",
       "      <td>NaN</td>\n",
       "      <td>NaN</td>\n",
       "      <td>NaN</td>\n",
       "      <td>1.0</td>\n",
       "      <td>NaN</td>\n",
       "      <td>0.0</td>\n",
       "      <td>4.0</td>\n",
       "      <td>1.0</td>\n",
       "      <td>2.0</td>\n",
       "      <td>3.0</td>\n",
       "      <td>NaN</td>\n",
       "      <td>NaN</td>\n",
       "      <td>02/01/2001</td>\n",
       "      <td>3.0</td>\n",
       "      <td>0.0</td>\n",
       "      <td>NaN</td>\n",
       "      <td>PR</td>\n",
       "      <td>411780.0</td>\n",
       "      <td>02/01/2001</td>\n",
       "      <td>2743116.0</td>\n",
       "      <td>41.0</td>\n",
       "      <td>411780.0</td>\n",
       "      <td>14/03/2002</td>\n",
       "      <td>2.0</td>\n",
       "      <td>2.0</td>\n",
       "      <td>3.0</td>\n",
       "      <td>NaN</td>\n",
       "      <td>NaN</td>\n",
       "      <td>NaN</td>\n",
       "      <td>0.0</td>\n",
       "      <td>14/03/2002</td>\n",
       "      <td>1.0</td>\n",
       "      <td>0.0</td>\n",
       "      <td>0.0</td>\n",
       "    </tr>\n",
       "  </tbody>\n",
       "</table>\n",
       "</div>"
      ],
      "text/plain": [
       "   TP_NOT ID_AGRAVO  DT_NOTIFIC  NU_ANO  SG_UF_NOT  ID_MUNICIP  ID_REGIONA  \\\n",
       "0       2      A309  10/01/2001    2001       41.0      410304      1359.0   \n",
       "1       2      A309  17/01/2001    2001       41.0      410940      1359.0   \n",
       "2       2      A309  16/01/2001    2001       41.0      410940      1359.0   \n",
       "3       2      A309  08/01/2001    2001       41.0      411780      1359.0   \n",
       "4       2      A309  02/01/2001    2001       41.0      411780      1359.0   \n",
       "\n",
       "   ID_UNIDADE     DT_DIAG  SEM_DIAG ANO_NASC  NU_IDADE_N CS_SEXO  CS_GESTANT  \\\n",
       "0   2741474.0  10/12/2000       NaN     1942        4058       M         6.0   \n",
       "1   2741369.0  23/12/2000       NaN     1956        4044       M         6.0   \n",
       "2   2741369.0  16/01/2001       NaN     1968        4032       M         6.0   \n",
       "3   2743116.0  08/01/2001       NaN     1960        4040       F         9.0   \n",
       "4   2743116.0  11/01/2000       NaN     1968        4031       M         6.0   \n",
       "\n",
       "   CS_RACA CS_ESCOL_N  SG_UF  ID_MN_RESI  ID_RG_RESI  ID_PAIS  NDUPLIC_N  \\\n",
       "0      NaN        0.0   41.0    410304.0      1359.0      1.0        0.0   \n",
       "1      1.0        0.0   41.0    410940.0      1359.0      1.0        0.0   \n",
       "2      1.0        3.0   41.0    410940.0      1359.0      1.0        0.0   \n",
       "3      NaN        3.0   41.0    411780.0      1359.0      1.0        0.0   \n",
       "4      NaN        0.0   41.0    411780.0      1359.0      1.0        0.0   \n",
       "\n",
       "  DT_DIGITA DT_TRANSUS DT_TRANSDM  DT_TRANSSM  DT_TRANSRM DT_TRANSRS  \\\n",
       "0       NaN        NaN        NaN  11/03/2008         NaN        NaN   \n",
       "1       NaN        NaN        NaN  28/12/2007         NaN        NaN   \n",
       "2       NaN        NaN        NaN  28/12/2007         NaN        NaN   \n",
       "3       NaN        NaN        NaN  10/12/2007         NaN        NaN   \n",
       "4       NaN        NaN        NaN  10/12/2007         NaN        NaN   \n",
       "\n",
       "   DT_TRANSSE  NU_LOTE_V  NU_LOTE_H  CS_FLXRET  FLXRECEBI  MIGRADO_W  \\\n",
       "0  22/05/2009        0.0        NaN        NaN        NaN        1.0   \n",
       "1  22/12/2010        0.0        NaN        NaN        NaN        1.0   \n",
       "2  22/12/2010        0.0        NaN        NaN        NaN        1.0   \n",
       "3  22/12/2010        0.0        NaN        NaN        NaN        1.0   \n",
       "4  22/12/2010        0.0        NaN        NaN        NaN        1.0   \n",
       "\n",
       "  ID_OCUPA_N  NU_LESOES  FORMACLINI  AVALIA_N  CLASSOPERA  MODOENTR  \\\n",
       "0        NaN        0.0         1.0       0.0         2.0       1.0   \n",
       "1        NaN        0.0         4.0       2.0         2.0       6.0   \n",
       "2        NaN        0.0         2.0       0.0         1.0       1.0   \n",
       "3        NaN        0.0         1.0       1.0         2.0       1.0   \n",
       "4        NaN        0.0         4.0       1.0         2.0       3.0   \n",
       "\n",
       "   MODODETECT  BACILOSCOP  DTINICTRAT  ESQ_INI_N  CONTREG  NERVOSAFET UFATUAL  \\\n",
       "0         2.0         NaN  10/12/2000        3.0      0.0         NaN      PR   \n",
       "1         NaN         NaN  17/01/2001        3.0      3.0         NaN      PR   \n",
       "2         1.0         NaN  16/01/2001        1.0      1.0         NaN      PR   \n",
       "3         2.0         NaN  08/01/2001        3.0      3.0         NaN      PR   \n",
       "4         NaN         NaN  02/01/2001        3.0      0.0         NaN      PR   \n",
       "\n",
       "   ID_MUNI_AT  DT_NOTI_AT  ID_UNID_AT UFRESAT  MUNIRESAT   DTULTCOMP  \\\n",
       "0    410304.0  10/01/2001   2741474.0    41.0   410304.0  02/10/2002   \n",
       "1    410940.0  17/01/2001   2741369.0    41.0   410940.0  19/12/2001   \n",
       "2    410940.0  16/01/2001   2741369.0    41.0   410940.0  27/06/2001   \n",
       "3    411780.0  08/01/2001   2743116.0    41.0   411780.0  28/01/2002   \n",
       "4    411780.0  02/01/2001   2743116.0    41.0   411780.0  14/03/2002   \n",
       "\n",
       "   CLASSATUAL  AVAL_ATU_N  ESQ_ATU_N  DOSE_RECEB  EPIS_RACIO DTMUDESQ  \\\n",
       "0         2.0         0.0        3.0         NaN         NaN      NaN   \n",
       "1         2.0         0.0        3.0         NaN         NaN      NaN   \n",
       "2         1.0         0.0        1.0         NaN         NaN      NaN   \n",
       "3         2.0         0.0        3.0         NaN         NaN      NaN   \n",
       "4         2.0         2.0        3.0         NaN         NaN      NaN   \n",
       "\n",
       "   CONTEXAM    DTALTA_N  TPALTA_N  IN_VINCULA  NU_LOTE_IA  \n",
       "0       0.0  02/10/2002       1.0         0.0         0.0  \n",
       "1       2.0  19/12/2001       1.0         0.0         0.0  \n",
       "2       1.0  27/06/2001       1.0         0.0         0.0  \n",
       "3       3.0  28/01/2002       1.0         0.0         0.0  \n",
       "4       0.0  14/03/2002       1.0         0.0         0.0  "
      ]
     },
     "execution_count": 4,
     "metadata": {},
     "output_type": "execute_result"
    }
   ],
   "source": [
    "df_hans.head()"
   ]
  },
  {
   "cell_type": "code",
   "execution_count": 5,
   "metadata": {},
   "outputs": [
    {
     "data": {
      "text/plain": [
       "(923411, 63)"
      ]
     },
     "execution_count": 5,
     "metadata": {},
     "output_type": "execute_result"
    }
   ],
   "source": [
    "df_hans.shape"
   ]
  },
  {
   "cell_type": "code",
   "execution_count": 6,
   "metadata": {},
   "outputs": [
    {
     "data": {
      "text/plain": [
       "(923289, 62)"
      ]
     },
     "execution_count": 6,
     "metadata": {},
     "output_type": "execute_result"
    }
   ],
   "source": [
    "# Filtra apenas os dados que não estão duplicados\n",
    "df_hans = df_hans[df_hans['NDUPLIC_N'] != 2]\n",
    "df_hans.drop(['NDUPLIC_N'], axis=1, inplace=True)\n",
    "df_hans.shape"
   ]
  },
  {
   "attachments": {},
   "cell_type": "markdown",
   "metadata": {},
   "source": [
    "### Pandas Profiling"
   ]
  },
  {
   "cell_type": "code",
   "execution_count": 7,
   "metadata": {},
   "outputs": [],
   "source": [
    "profile = ProfileReport(df_hans, title='Report', correlations={\n",
    "                                                \"pearson\": {\"calculate\": False},\n",
    "                                                \"spearman\": {\"calculate\": False},\n",
    "                                                \"kendall\": {\"calculate\": False},\n",
    "                                                \"phi_k\": {\"calculate\": False},\n",
    "                                                \"cramers\": {\"calculate\": False}},\n",
    "                                             missing_diagrams={\n",
    "                                                \"heatmap\": False,\n",
    "                                                \"dendrogram\": False,\n",
    "                                                \"matrix\": False,\n",
    "                                                \"bar\": False},\n",
    "                                             interactions={\n",
    "                                                \"continuous\": False})"
   ]
  },
  {
   "cell_type": "code",
   "execution_count": 8,
   "metadata": {},
   "outputs": [
    {
     "data": {
      "application/vnd.jupyter.widget-view+json": {
       "model_id": "3079e18606934be5aaffd63485c5c60f",
       "version_major": 2,
       "version_minor": 0
      },
      "text/plain": [
       "Summarize dataset:   0%|          | 0/5 [00:00<?, ?it/s]"
      ]
     },
     "metadata": {},
     "output_type": "display_data"
    },
    {
     "name": "stderr",
     "output_type": "stream",
     "text": [
      "c:\\Users\\mclar\\anaconda3\\lib\\site-packages\\scipy\\stats\\_stats_py.py:4881: ConstantInputWarning: An input array is constant; the correlation coefficient is not defined.\n",
      "  warnings.warn(stats.ConstantInputWarning(warn_msg))\n",
      "c:\\Users\\mclar\\anaconda3\\lib\\site-packages\\scipy\\stats\\_stats_py.py:4881: ConstantInputWarning: An input array is constant; the correlation coefficient is not defined.\n",
      "  warnings.warn(stats.ConstantInputWarning(warn_msg))\n",
      "c:\\Users\\mclar\\anaconda3\\lib\\site-packages\\scipy\\stats\\_stats_py.py:4881: ConstantInputWarning: An input array is constant; the correlation coefficient is not defined.\n",
      "  warnings.warn(stats.ConstantInputWarning(warn_msg))\n",
      "c:\\Users\\mclar\\anaconda3\\lib\\site-packages\\scipy\\stats\\_stats_py.py:4881: ConstantInputWarning: An input array is constant; the correlation coefficient is not defined.\n",
      "  warnings.warn(stats.ConstantInputWarning(warn_msg))\n",
      "c:\\Users\\mclar\\anaconda3\\lib\\site-packages\\scipy\\stats\\_stats_py.py:4881: ConstantInputWarning: An input array is constant; the correlation coefficient is not defined.\n",
      "  warnings.warn(stats.ConstantInputWarning(warn_msg))\n",
      "c:\\Users\\mclar\\anaconda3\\lib\\site-packages\\scipy\\stats\\_stats_py.py:4881: ConstantInputWarning: An input array is constant; the correlation coefficient is not defined.\n",
      "  warnings.warn(stats.ConstantInputWarning(warn_msg))\n"
     ]
    },
    {
     "data": {
      "application/vnd.jupyter.widget-view+json": {
       "model_id": "942dc4ae20e34872a60e73d3db7f51b5",
       "version_major": 2,
       "version_minor": 0
      },
      "text/plain": [
       "Generate report structure:   0%|          | 0/1 [00:00<?, ?it/s]"
      ]
     },
     "metadata": {},
     "output_type": "display_data"
    },
    {
     "data": {
      "application/vnd.jupyter.widget-view+json": {
       "model_id": "751a16d6a9864170b3b08e715535c302",
       "version_major": 2,
       "version_minor": 0
      },
      "text/plain": [
       "Render HTML:   0%|          | 0/1 [00:00<?, ?it/s]"
      ]
     },
     "metadata": {},
     "output_type": "display_data"
    },
    {
     "data": {
      "application/vnd.jupyter.widget-view+json": {
       "model_id": "23b4732bb53442538927c0673c18cdf2",
       "version_major": 2,
       "version_minor": 0
      },
      "text/plain": [
       "Export report to file:   0%|          | 0/1 [00:00<?, ?it/s]"
      ]
     },
     "metadata": {},
     "output_type": "display_data"
    }
   ],
   "source": [
    "profile.to_file(\"../assets/reports/report.html\")"
   ]
  },
  {
   "attachments": {},
   "cell_type": "markdown",
   "metadata": {},
   "source": [
    "### Mudança tipo de colunas"
   ]
  },
  {
   "cell_type": "code",
   "execution_count": 9,
   "metadata": {},
   "outputs": [],
   "source": [
    "cols_to_change = [elem for elem in df_hans.columns if 'ID_' in elem or 'CS_' in elem or 'UF' in elem or 'MUNI' in elem]\n",
    "others_cols = ['FORMACLINI', 'AVALIA_N', 'CLASSOPERA', 'MODOENTR', 'MODODETECT', 'BACILOSCOP', 'ESQ_INI_N', 'CLASSATUAL', \n",
    "                'AVAL_ATU_N', 'ESQ_ATU_N', 'EPIS_RACIO', 'TPALTA_N']\n",
    "cols_to_change = cols_to_change + others_cols\n",
    "df_hans[cols_to_change] = df_hans[cols_to_change].astype(str)"
   ]
  },
  {
   "cell_type": "code",
   "execution_count": 10,
   "metadata": {},
   "outputs": [
    {
     "data": {
      "text/plain": [
       "(923289, 62)"
      ]
     },
     "execution_count": 10,
     "metadata": {},
     "output_type": "execute_result"
    }
   ],
   "source": [
    "df_hans.shape"
   ]
  },
  {
   "attachments": {},
   "cell_type": "markdown",
   "metadata": {},
   "source": [
    "### Exclusão de low variance features"
   ]
  },
  {
   "cell_type": "code",
   "execution_count": 11,
   "metadata": {},
   "outputs": [],
   "source": [
    "target = ['DTALTA_N', 'TPALTA_N']\n",
    "feats = df_hans.drop(target, axis=1).columns\n",
    "num_feats = [feat for feat in feats if df_hans[feat].dtype != 'O']\n",
    "cat_feats = [feat for feat in feats if feat not in num_feats]"
   ]
  },
  {
   "cell_type": "code",
   "execution_count": 12,
   "metadata": {},
   "outputs": [],
   "source": [
    "def drop_low_variance_cat(df, col):\n",
    "    if df[col].nunique() == 1:\n",
    "        return True\n",
    "    elif df[col].value_counts(1).iloc[0] > 0.9:\n",
    "        return True\n",
    "    elif df[col].value_counts().iloc[0] < df[col].isna().sum():\n",
    "        return True\n",
    "    else:\n",
    "        return False\n",
    "    \n",
    "def drop_low_variance_num(df, col):\n",
    "    if df[col].nunique() == 1:\n",
    "        return True\n",
    "    elif df[col].isna().sum()/len(df) > 0.5:\n",
    "        return True\n",
    "    else:\n",
    "        return False\n",
    "\n",
    "low_var_feats = [col for col in cat_feats if drop_low_variance_cat(df_hans, col)]\n",
    "cat_feats = [feat for feat in cat_feats if feat not in low_var_feats]\n",
    "\n",
    "low_var_feats = [col for col in num_feats if drop_low_variance_num(df_hans, col)]\n",
    "num_feats = [feat for feat in num_feats if feat not in low_var_feats]"
   ]
  },
  {
   "cell_type": "code",
   "execution_count": 13,
   "metadata": {},
   "outputs": [
    {
     "name": "stdout",
     "output_type": "stream",
     "text": [
      "[]\n"
     ]
    }
   ],
   "source": [
    "def is_high_card(df, col):\n",
    "    if df[col].nunique()/len(df) > 0.3:\n",
    "        return True\n",
    "    else:\n",
    "        return False\n",
    "    \n",
    "high_card_feats = [col for col in cat_feats if is_high_card(df_hans, col)]\n",
    "print(high_card_feats)\n",
    "cat_feats = [col for col in cat_feats if col not in high_card_feats]"
   ]
  },
  {
   "cell_type": "code",
   "execution_count": 14,
   "metadata": {},
   "outputs": [
    {
     "data": {
      "text/plain": [
       "(923289, 41)"
      ]
     },
     "execution_count": 14,
     "metadata": {},
     "output_type": "execute_result"
    }
   ],
   "source": [
    "df_hans_filtered = df_hans[cat_feats + num_feats + target].copy()\n",
    "df_hans_filtered.shape"
   ]
  },
  {
   "attachments": {},
   "cell_type": "markdown",
   "metadata": {},
   "source": [
    "### Remoção colunas"
   ]
  },
  {
   "cell_type": "code",
   "execution_count": 15,
   "metadata": {},
   "outputs": [
    {
     "data": {
      "text/plain": [
       "(923289, 38)"
      ]
     },
     "execution_count": 15,
     "metadata": {},
     "output_type": "execute_result"
    }
   ],
   "source": [
    "df_hans_filtered.drop(['DT_NOTIFIC', 'NU_IDADE_N', 'NU_LOTE_IA', 'NU_LOTE_IA'], axis=1, inplace=True)\n",
    "df_hans_filtered.shape"
   ]
  },
  {
   "attachments": {},
   "cell_type": "markdown",
   "metadata": {},
   "source": [
    "### Remoção de duplicatas"
   ]
  },
  {
   "cell_type": "code",
   "execution_count": 16,
   "metadata": {},
   "outputs": [
    {
     "data": {
      "text/plain": [
       "(923238, 38)"
      ]
     },
     "execution_count": 16,
     "metadata": {},
     "output_type": "execute_result"
    }
   ],
   "source": [
    "df_hans_processed = df_hans_filtered.drop_duplicates()\n",
    "df_hans_processed.shape"
   ]
  },
  {
   "cell_type": "code",
   "execution_count": 17,
   "metadata": {},
   "outputs": [],
   "source": [
    "df_hans_processed.to_csv('../data/interim/hans_interim.csv', index=False)"
   ]
  }
 ],
 "metadata": {
  "kernelspec": {
   "display_name": "base",
   "language": "python",
   "name": "python3"
  },
  "language_info": {
   "codemirror_mode": {
    "name": "ipython",
    "version": 3
   },
   "file_extension": ".py",
   "mimetype": "text/x-python",
   "name": "python",
   "nbconvert_exporter": "python",
   "pygments_lexer": "ipython3",
   "version": "3.10.9"
  },
  "orig_nbformat": 4,
  "vscode": {
   "interpreter": {
    "hash": "07caf65f831096889b9ab8ef0ea9b3ad519bf1b3e5cc9e3f255da3d11bbe65fb"
   }
  }
 },
 "nbformat": 4,
 "nbformat_minor": 2
}
